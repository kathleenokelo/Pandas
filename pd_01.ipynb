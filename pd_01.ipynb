{
 "cells": [
  {
   "cell_type": "markdown",
   "metadata": {},
   "source": [
    "Step 1. Import the necessary libraries\n",
    " \n",
    "Step 2. Create a data dictionary that looks like the DataFrame below\n",
    " \n",
    "Step 3. Assign it to a variable called pokemon\n",
    " \n",
    "evolution\thp\tname\tpokedex\ttype\n",
    "0\tIvysaur\t45\tBulbasaur\tyes\tgrass\n",
    "1\tCharmeleon\t39\tCharmander\tno\tfire\n",
    "2\tWartortle\t44\tSquirtle\tyes\twater\n",
    "3\tMetapod\t45\tCaterpie\tno\tbug\n",
    "\n",
    "Step 4. Ops...it seems the DataFrame columns are in alphabetical order. Place the order of the columns as name, type, hp, evolution, pokedex\n",
    " \n",
    "Step 5. Add another column called place, and insert what you have in mind.\n",
    " \n",
    "Step 6. Present the type of each column\n",
    " \n",
    "BONUS: Create your own question and answer it."
   ]
  },
  {
   "cell_type": "code",
   "execution_count": 2,
   "metadata": {},
   "outputs": [],
   "source": [
    "#Step 1. Import the necessary libraries\n",
    "\n",
    "import numpy as np\n",
    "import pandas as pd"
   ]
  },
  {
   "cell_type": "code",
   "execution_count": 5,
   "metadata": {},
   "outputs": [
    {
     "name": "stdout",
     "output_type": "stream",
     "text": [
      "    evolution  hp         name pokedex   type\n",
      "0     Ivysaur  45    Bulbasaur     yes  grass\n",
      "1  Charmeleon  39  Charmeander      no   fire\n",
      "2   Wartortle  44     Squirtle     yes  water\n",
      "3     Metapod  45     Caterpie      no    bug\n"
     ]
    }
   ],
   "source": [
    "#Step 2. Create a data dictionary that looks like the DataFrame below\n",
    "#Step 3. Assign it to a variable called pokemon\n",
    "\n",
    "pokemon = [['Ivysaur',45,'Bulbasaur','yes','grass'],\n",
    "        ['Charmeleon',39,'Charmeander','no','fire'],\n",
    "        ['Wartortle',44,'Squirtle','yes','water'],\n",
    "        ['Metapod',45,'Caterpie','no','bug']]\n",
    "df = pd.DataFrame(data = pokemon, columns= ['evolution','hp','name','pokedex','type'])\n",
    "print(df)"
   ]
  },
  {
   "cell_type": "code",
   "execution_count": 8,
   "metadata": {},
   "outputs": [
    {
     "name": "stdout",
     "output_type": "stream",
     "text": [
      "          name   type  hp   evolution pokedex\n",
      "0    Bulbasaur  grass  45     Ivysaur     yes\n",
      "1  Charmeander   fire  39  Charmeleon      no\n",
      "2     Squirtle  water  44   Wartortle     yes\n",
      "3     Caterpie    bug  45     Metapod      no\n"
     ]
    }
   ],
   "source": [
    "#Step 4. Ops...it seems the DataFrame columns are in alphabetical order. \n",
    "# Place the order of the columns as name, type, hp, evolution, pokedex\n",
    "\n",
    "new_order = ['name','type','hp','evolution','pokedex']\n",
    "new_df = df[new_order]\n",
    "print(new_df)"
   ]
  },
  {
   "cell_type": "code",
   "execution_count": 9,
   "metadata": {},
   "outputs": [
    {
     "name": "stdout",
     "output_type": "stream",
     "text": [
      "          name   type  hp   evolution pokedex     place\n",
      "0    Bulbasaur  grass  45     Ivysaur     yes  New york\n",
      "1  Charmeander   fire  39  Charmeleon      no     Paris\n",
      "2     Squirtle  water  44   Wartortle     yes   Nairobi\n",
      "3     Caterpie    bug  45     Metapod      no    London\n"
     ]
    },
    {
     "name": "stderr",
     "output_type": "stream",
     "text": [
      "C:\\Users\\Kathleen\\AppData\\Local\\Temp\\ipykernel_18904\\1651447666.py:3: SettingWithCopyWarning: \n",
      "A value is trying to be set on a copy of a slice from a DataFrame.\n",
      "Try using .loc[row_indexer,col_indexer] = value instead\n",
      "\n",
      "See the caveats in the documentation: https://pandas.pydata.org/pandas-docs/stable/user_guide/indexing.html#returning-a-view-versus-a-copy\n",
      "  new_df['place'] = ['New york','Paris','Nairobi','London']\n"
     ]
    }
   ],
   "source": [
    "#Step 5. Add another column called place, and insert what you have in mind\n",
    "\n",
    "new_df['place'] = ['New york','Paris','Nairobi','London']\n",
    "print(new_df)"
   ]
  },
  {
   "cell_type": "code",
   "execution_count": null,
   "metadata": {},
   "outputs": [],
   "source": []
  },
  {
   "cell_type": "code",
   "execution_count": 12,
   "metadata": {},
   "outputs": [
    {
     "data": {
      "text/plain": [
       "0    grass\n",
       "1     fire\n",
       "2    water\n",
       "3      bug\n",
       "Name: type, dtype: object"
      ]
     },
     "execution_count": 12,
     "metadata": {},
     "output_type": "execute_result"
    }
   ],
   "source": [
    "#Step 6. Present the type of each column\n",
    "\n",
    "new_df.type"
   ]
  },
  {
   "cell_type": "code",
   "execution_count": null,
   "metadata": {},
   "outputs": [],
   "source": [
    "#BONUS: Create your own question and answer it.\n"
   ]
  }
 ],
 "metadata": {
  "kernelspec": {
   "display_name": "datavis",
   "language": "python",
   "name": "python3"
  },
  "language_info": {
   "codemirror_mode": {
    "name": "ipython",
    "version": 3
   },
   "file_extension": ".py",
   "mimetype": "text/x-python",
   "name": "python",
   "nbconvert_exporter": "python",
   "pygments_lexer": "ipython3",
   "version": "3.12.4"
  }
 },
 "nbformat": 4,
 "nbformat_minor": 2
}
